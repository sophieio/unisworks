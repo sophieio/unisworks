{
 "cells": [
  {
   "cell_type": "code",
   "execution_count": 110,
   "metadata": {
    "collapsed": false,
    "deletable": true,
    "editable": true
   },
   "outputs": [
    {
     "data": {
      "application/javascript": [
       "\n",
       "Jupyter.keyboard_manager.command_shortcuts.add_shortcut('r', {\n",
       "    help : 'run all cells',\n",
       "    help_index : 'zz',\n",
       "    handler : function (event) {\n",
       "        IPython.notebook.execute_all_cells();\n",
       "        return false;\n",
       "    }}\n",
       ");"
      ],
      "text/plain": [
       "<IPython.core.display.Javascript object>"
      ]
     },
     "metadata": {},
     "output_type": "display_data"
    }
   ],
   "source": [
    "%%javascript\n",
    "\n",
    "Jupyter.keyboard_manager.command_shortcuts.add_shortcut('r', {\n",
    "    help : 'run all cells',\n",
    "    help_index : 'zz',\n",
    "    handler : function (event) {\n",
    "        IPython.notebook.execute_all_cells();\n",
    "        return false;\n",
    "    }}\n",
    ");"
   ]
  },
  {
   "cell_type": "code",
   "execution_count": 111,
   "metadata": {
    "collapsed": false
   },
   "outputs": [
    {
     "name": "stdout",
     "output_type": "stream",
     "text": [
      "reignofjellyfish.unis.works\n",
      "git17.unis.works\n",
      "sophieandtheshark.unis.works\n"
     ]
    }
   ],
   "source": [
    "def run_command(cmd):\n",
    "    from subprocess import Popen, PIPE\n",
    "    import shlex\n",
    "\n",
    "    with Popen(shlex.split(cmd), stdout=PIPE, bufsize=1, universal_newlines=True) as p:\n",
    "        for line in p.stdout:\n",
    "            print(line, end='')\n",
    "        exit_code = p.poll()\n",
    "    return exit_code\n",
    "\n",
    "import os, subprocess, shlex\n",
    "os.environ[\"PATH\"]=\"/root/.nvm/versions/node/v7.7.3/bin:\" + os.environ[\"PATH\"]\n",
    "cmd = \"/root/.nvm/versions/node/v7.7.3/bin/surge list\"\n",
    "surge_output = subprocess.check_output(cmd, shell=True)\n",
    "#print(surge_output)\n",
    "\n",
    "import re\n",
    "l = surge_output.decode(\"utf-8\")\n",
    "urls = re.findall(r'([\\w\\d._-]+\\.unis.works)', l)\n",
    "#print(urls)\n",
    "#for u in urls:\n",
    "#    print(u)\n",
    "    \n",
    "#if reignofjellyfish.test.unis.works in urls: urls.remove(thing)\n",
    "# // can't delete from surge  \n",
    "try:\n",
    "    urls.remove(\"reignofjellyfish.test.unis.works\")\n",
    "except ValueError:\n",
    "    pass # or scream: thing not in some_list!\n",
    "except AttributeError:\n",
    "    pass # call security, some_list not quacking like a list!\n",
    "\n",
    "for u in urls:\n",
    "    print(u)"
   ]
  },
  {
   "cell_type": "code",
   "execution_count": 112,
   "metadata": {
    "collapsed": false
   },
   "outputs": [
    {
     "name": "stdout",
     "output_type": "stream",
     "text": [
      "Reign of Jellyfish, by Sophie Shih\n",
      "Web Stories with HTML and Python, by George Shih\n",
      "Sophie and the Shark, by Sophie Shih\n",
      "\n",
      "            <ul class=\"description\">\n",
      "            <li><svg class=\"fa-bookmark-o\" style=\"color:red\"><use xlink:href=\"#fa-bookmark-o\"></use></svg> &nbsp;<a href=\"http://reignofjellyfish.unis.works\" target=\"_blank\">Reign of Jellyfish, by Sophie Shih</a></li><li><svg class=\"fa-bookmark-o\" style=\"color:red\"><use xlink:href=\"#fa-bookmark-o\"></use></svg> &nbsp;<a href=\"http://git17.unis.works\" target=\"_blank\">Web Stories with HTML and Python, by George Shih</a></li><li><svg class=\"fa-bookmark-o\" style=\"color:red\"><use xlink:href=\"#fa-bookmark-o\"></use></svg> &nbsp;<a href=\"http://sophieandtheshark.unis.works\" target=\"_blank\">Sophie and the Shark, by Sophie Shih</a></li>\n",
      "            </ul>\n",
      "\n"
     ]
    }
   ],
   "source": [
    "import warnings\n",
    "warnings.filterwarnings(\"ignore\")\n",
    "\n",
    "toc_arefs=[]\n",
    "# read url for meta description\n",
    "import metadata_parser\n",
    "for u in urls:\n",
    "    page = metadata_parser.MetadataParser(url=\"http://\"+u)\n",
    "    print(page.metadata['meta']['description'])\n",
    "    aref='<a href=\"http://'+u+'\" target=\"_blank\">'+page.metadata['meta']['description']+'</a>'\n",
    "    toc_arefs.append(aref)\n",
    "    #print(aref)\n",
    "# page = metadata_parser.MetadataParser(url=\"http://reignofjellyfish.unis.works\")\n",
    "# print(page.metadata['meta']['description'])\n",
    "\n",
    "html_toc=\"\"\"\n",
    "            <ul class=\"description\">\n",
    "            {}\n",
    "            </ul>\n",
    "\"\"\"\n",
    "\n",
    "workli=\"\"\n",
    "\n",
    "for aref in toc_arefs:\n",
    "    workli+='<li><svg class=\"fa-bookmark-o\" style=\"color:red\">'+ \\\n",
    "        '<use xlink:href=\"#fa-bookmark-o\"></use>' + \\\n",
    "        '</svg> &nbsp;'+aref+'</li>'\n",
    "#print(workli)\n",
    "\n",
    "toc = html_toc.format(workli)\n",
    "print(toc)"
   ]
  },
  {
   "cell_type": "code",
   "execution_count": 118,
   "metadata": {
    "collapsed": false
   },
   "outputs": [],
   "source": [
    "def unisworks_toc(toc):\n",
    "    html_header = \"\"\"\n",
    "    <!doctype html>\n",
    "    <html lang=\"en\">\n",
    "      <head>\n",
    "        <meta charset=\"utf-8\">\n",
    "        <meta name=\"viewport\" content=\"width=device-width, initial-scale=1\">\n",
    "\n",
    "        <!-- SEO -->\n",
    "        <title>{}</title>\n",
    "        <meta name=\"description\" content=\"{}, by {}\">\n",
    "\n",
    "        <!-- URL CANONICAL -->\n",
    "        <!-- <link rel=\"canonical\" href=\"http://your-url.com/\"> -->\n",
    "\n",
    "        <!-- Google Fonts -->\n",
    "        <link href=\"https://fonts.googleapis.com/css?family=Roboto:100,100i,300,300i,400,400i,700,700i%7CMaitree:200,300,400,600,700&amp;subset=latin-ext\" rel=\"stylesheet\">\n",
    "\n",
    "        <!-- CSS Base -->\n",
    "        <link rel=\"stylesheet\" type='text/css' media='all' href=\"static/css/base.css\">\n",
    "\n",
    "        <!-- CSS Colors -->\n",
    "        <link rel=\"stylesheet\" type='text/css' media='all' href=\"static/css/colors.css\">\n",
    "\n",
    "        <!-- Optional - CSS SVG Icons (Font Awesome) -->\n",
    "        <link rel=\"stylesheet\" type='text/css' media='all' href=\"static/css/svg-icons.css\">\n",
    "\n",
    "        <!-- SOCIAL CARDS (ADD YOUR INFO) -->\n",
    "\n",
    "        <!-- FAVICONS -->\n",
    "        <link rel=\"shortcut icon\" sizes=\"16x16\" href=\"static/images/favicons/unisworks.png\">\n",
    "\n",
    "        <!-- Android -->\n",
    "        <meta name=\"mobile-web-app-capable\" content=\"yes\">\n",
    "        <meta name=\"theme-color\" content=\"#333333\">\n",
    "\n",
    "        <!--<style>-->\n",
    "        <!--  @import url('https://fonts.googleapis.com/css?family=Nothing+You+Could+Do');-->\n",
    "        <!--</style>-->\n",
    "        <link href=\"https://fonts.googleapis.com/css?family=Inconsolata\" rel=\"stylesheet\">\n",
    "        <link href=\"https://fonts.googleapis.com/css?family=Nothing+You+Could+Do\" rel=\"stylesheet\">\n",
    "        <link href=\"https://fonts.googleapis.com/css?family=Roboto+Condensed\" rel=\"stylesheet\">\n",
    "        <link href=\"https://fonts.googleapis.com/css?family=Maitree\" rel=\"stylesheet\">\n",
    "\n",
    "      </head>\n",
    "      <body>\n",
    "\n",
    "        <main role=\"main\">\n",
    "          <article id=\"webslides\" class=\"\">\n",
    "            <!-- Quick Guide\n",
    "              - Each parent <section> in the <article id=\"webslides\"> element is an individual slide.\n",
    "              - Vertical sliding = <article id=\"webslides\" class=\"vertical\">\n",
    "              - <div class=\"wrap\"> = container 1200px / <div class=\"wrap size-50\"> = 600px;\n",
    "            -->\n",
    "\n",
    "            <section class=\"slide-middle\">\n",
    "              <div class=\"wrap\">\n",
    "                <div class=\"content-center\">\n",
    "                  <center>\n",
    "                  <h2 style=\"font-family:'Nothing You Could Do', cursive;\" class=\"fadeInUp slow\">\n",
    "                    <strong>UNIS Works</strong>\n",
    "                    <svg class=\"fa-pencil\" style=\"color:red\">\n",
    "                        <use xlink:href=\"#fa-pencil\"></use>\n",
    "                    </svg>\n",
    "                  </h2>\n",
    "                  <br/>\n",
    "                  \n",
    "                  {}\n",
    "\n",
    "                  <br/>\n",
    "                  <p style=\"font-family:'Roboto Condensed', sans-serif;\" class=\"slow\">\n",
    "                    <a href=\"http://unis.works\" target=\"_blank\">\n",
    "                    <!--<svg class=\"fa-bookmark-o\" style=\"color:red\">\n",
    "                        <use xlink:href=\"#fa-bookmark-o\"></use>\n",
    "                    </svg>\n",
    "                      http://unis.works\n",
    "                      <br/>-->\n",
    "                      <small>&copy; 2017</small>\n",
    "                    </a>\n",
    "                  </p>\n",
    "                  </center>\n",
    "                </div>\n",
    "                <!-- .end .content-right -->\n",
    "              </div>\n",
    "              <!-- .end .wrap -->\n",
    "            </section>\n",
    "\n",
    "    \"\"\"\n",
    "    header = html_header.format(\"UNIS Works\", \"UNIS Works\", \"UNIS Works\", toc)\n",
    "    \n",
    "    html_end = \"\"\"\n",
    "            </article>\n",
    "          <!-- end article -->\n",
    "        </main>\n",
    "        <!-- end main -->\n",
    "\n",
    "        <script src=\"static/js/svg-icons.js\"></script>\n",
    "        <script src=\"static/js/webslides.js\"></script>\n",
    "        <script>\n",
    "          window.ws = new WebSlides({ changeOnClick: true });\n",
    "        </script>\n",
    "\n",
    "        <!-- OPTIONAL - svg-icons.js (fontastic.me - Font Awesome as svg icons) -->\n",
    "        <script defer src=\"static/js/svg-icons.js\"></script>\n",
    "\n",
    "      </body>\n",
    "    </html>\n",
    "    \"\"\"\n",
    "    end = html_end\n",
    "    \n",
    "    #html_final_work = html_header + html_title + html_quote + html_text + \\\n",
    "    #                  html_thanks + html_end\n",
    "    final_work = header + end\n",
    "    \n",
    "    return final_work\n",
    "    \n",
    "final_toc = unisworks_toc(toc)\n",
    "\n",
    "with open(\"toc/index.html\", \"w\") as toc_file:\n",
    "    toc_file.write(final_toc)\n"
   ]
  },
  {
   "cell_type": "code",
   "execution_count": 119,
   "metadata": {
    "collapsed": false
   },
   "outputs": [
    {
     "name": "stdout",
     "output_type": "stream",
     "text": [
      "Publishing... (please wait)\n",
      "Done.  \n",
      "\n",
      "http://unis.works\n"
     ]
    }
   ],
   "source": [
    "# publish using surge.sh\n",
    "# (make sure surge is installed using npm install -g surge)\n",
    "toc_url=\"unis.works\"\n",
    "print(\"Publishing... (please wait)\")\n",
    "import os\n",
    "os.environ[\"PATH\"]=\"/root/.nvm/versions/node/v7.7.3/bin:\" + os.environ[\"PATH\"]\n",
    "cmd = \"/root/.nvm/versions/node/v7.7.3/bin/surge --domain \" \\\n",
    "    + toc_url + \" ./toc/\"\n",
    "os.system(cmd)\n",
    "print(\"Done.  \")\n",
    "print(\"\\nhttp://\" + toc_url)"
   ]
  }
 ],
 "metadata": {
  "gist_id": "918645a233504c69fb31628a34850143",
  "kernelspec": {
   "display_name": "Python 3",
   "language": "python",
   "name": "python3"
  },
  "language_info": {
   "codemirror_mode": {
    "name": "ipython",
    "version": 3
   },
   "file_extension": ".py",
   "mimetype": "text/x-python",
   "name": "python",
   "nbconvert_exporter": "python",
   "pygments_lexer": "ipython3",
   "version": "3.4.2"
  }
 },
 "nbformat": 4,
 "nbformat_minor": 2
}
