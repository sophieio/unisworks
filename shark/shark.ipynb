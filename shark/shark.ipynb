{
 "cells": [
  {
   "cell_type": "code",
   "execution_count": 13,
   "metadata": {
    "collapsed": false,
    "deletable": true,
    "editable": true
   },
   "outputs": [
    {
     "name": "stdout",
     "output_type": "stream",
     "text": [
      "{\n",
      "  \"url\": \"reignofjellyfish.unis.works\",\n",
      "  \"grade\": \"J3R\",\n",
      "  \"author\": \"Sophie Shih\",\n",
      "  \"quoteAuthor\": \"Sophie Shih, J3R\",\n",
      "  \"subtitle\": \"Poisonous tentacles everywhere\",\n",
      "  \"authorPhoto\": \"http://sophieai.xyz/static/images/sophie-author-headshot.jpg\",\n",
      "  \"quote\": \"Climb Higher\",\n",
      "  \"title\": \"Reign of Jellyfish\",\n",
      "  \"textImage\": \"pU0a4vYJwco\",\n",
      "  \"date\": \"3/29/2017\",\n",
      "  \"titleImage\": \"J7IhGDWx5qQ\",\n",
      "  \"quoteImage\": \"http://sophieai.xyz/static/images/sophie-rock-climbing.jpg\",\n",
      "  \"email\": \"hello@sosoai.xyz\",\n",
      "  \"text\": [\n",
      "    \"Lorem ipsum dolor sit amet, duo utroque minimum te. Pro rebum fabellas an, ne voluptatum quaerendum mel, nec eruditi repudiandae id. Mea in quidam antiopam, cu pri primis quaestio imperdiet. Nam quando oblique aliquid cu, nostrud vivendo ex eos. Cu integre fastidii pro, cu sed nulla quaerendum.\",\n",
      "    \"Eum eu alia esse consectetuer, no ius etiam sensibus, recteque honestatis scripserit eu has. Cu duo pericula maluisset scripserit, possit conclusionemque nam et, pri molestie contentiones ea. Graecis mentitum invenire quo te, an nam falli accusam maluisset. Pri ut etiam dissentiunt, solet ceteros ea vel, ut accumsan urbanitas sed. Et vel nisl sumo conceptam, has adhuc putant perfecto at.\",\n",
      "    \"Quo aeque minimum accumsan ne, cu semper legimus sea. Te noluisse praesent usu, vis an maiorum constituto. Quem meliore has an, vix cu vituperata scriptorem, quo dictas concludaturque cu. No ferri modus partem cum. Cu duo posse maiestatis argumentum, ceteros salutandi reprimique eum ea, sed et ludus perpetua. An soluta nominavi sea, mel eu hinc modus sententiae.\",\n",
      "    \"Vis in epicurei accommodare, diceret deleniti complectitur quo in, ex mea doctus aliquip intellegat. Ei vix erat periculis contentiones, et cum simul exerci dignissim. Vide detraxit atomorum et duo, has no reque tation mnesarchum. Philosophia instructior te vel, usu graeco periculis scribentur te.\",\n",
      "    \"Vel an cibo utinam ocurreret, idque elitr est an. Debet ornatus splendide ius ex, at aliquid probatus est. Ut graeco albucius voluptatibus sed, pro ea meliore mnesarchum contentiones, per porro possim evertitur no. Usu ut lorem aeterno convenire. Id has errem ignota, usu ea homero delicatissimi.\"\n",
      "  ],\n",
      "  \"patreon\": \"https://www.patreon.com/bePatron/?u=5377586\"\n",
      "}\n"
     ]
    }
   ],
   "source": [
    "# import modules\n",
    "import yaml\n",
    "\n",
    "# read story metadata\n",
    "with open(\"reign-of-jellyfish.yml\", 'r') as stream:\n",
    "    try:\n",
    "        work_meta = yaml.load(stream)\n",
    "    except yaml.YAMLError as exc:\n",
    "        print(exc)\n",
    "import json\n",
    "print(json.dumps(work_meta, indent=2))\n",
    "#print(work_meta)\n",
    "\n",
    "# create story html\n",
    "import unisworks\n",
    "work = unisworks.unisworks(work_meta)\n",
    "#print(work)\n",
    "\n",
    "with open(\"pub/index.html\", \"w\") as work_file:\n",
    "    work_file.write(work)"
   ]
  },
  {
   "cell_type": "code",
   "execution_count": 14,
   "metadata": {
    "collapsed": false,
    "deletable": true,
    "editable": true,
    "scrolled": true
   },
   "outputs": [
    {
     "name": "stdout",
     "output_type": "stream",
     "text": [
      "Publishing... (please wait)\n",
      "Done.  \n",
      "\n",
      "http://reignofjellyfish.unis.works\n"
     ]
    }
   ],
   "source": [
    "# publish using surge.sh\n",
    "# (make sure surge is installed using npm install -g surge)\n",
    "print(\"Publishing... (please wait)\")\n",
    "import os\n",
    "os.environ[\"PATH\"]=\"/root/.nvm/versions/node/v7.7.3/bin:\" + os.environ[\"PATH\"]\n",
    "cmd = \"/root/.nvm/versions/node/v7.7.3/bin/surge --domain \" \\\n",
    "    + work_meta['url'] + \" ./pub/\"\n",
    "os.system(cmd)\n",
    "print(\"Done.  \")\n",
    "print(\"\\nhttp://\" + work_meta['url'])"
   ]
  }
 ],
 "metadata": {
  "gist_id": "918645a233504c69fb31628a34850143",
  "kernelspec": {
   "display_name": "Python 3",
   "language": "python",
   "name": "python3"
  },
  "language_info": {
   "codemirror_mode": {
    "name": "ipython",
    "version": 3
   },
   "file_extension": ".py",
   "mimetype": "text/x-python",
   "name": "python",
   "nbconvert_exporter": "python",
   "pygments_lexer": "ipython3",
   "version": "3.4.2"
  }
 },
 "nbformat": 4,
 "nbformat_minor": 2
}
