{
 "cells": [
  {
   "cell_type": "code",
   "execution_count": 2,
   "metadata": {
    "collapsed": false,
    "deletable": true,
    "editable": true
   },
   "outputs": [],
   "source": [
    "# import modules\n",
    "import yaml"
   ]
  },
  {
   "cell_type": "code",
   "execution_count": 11,
   "metadata": {
    "collapsed": false,
    "deletable": true,
    "editable": true
   },
   "outputs": [],
   "source": [
    "with open(\"solar.yml\", 'r') as stream:\n",
    "    try:\n",
    "        work = yaml.load(stream)\n",
    "    except yaml.YAMLError as exc:\n",
    "        print(exc)"
   ]
  },
  {
   "cell_type": "code",
   "execution_count": 12,
   "metadata": {
    "collapsed": false,
    "deletable": true,
    "editable": true
   },
   "outputs": [
    {
     "data": {
      "text/plain": [
       "{'author': 'Solar Shih',\n",
       " 'authorPhoto': 'http://solarai.xyz/static/images/solar-author-headshot.jpg',\n",
       " 'email': 'hello@sosoai.xyz',\n",
       " 'grade': 'PreK',\n",
       " 'patreon': 'https://www.patreon.com/bePatron/?u=5377586',\n",
       " 'quote': \"Let's build something together\",\n",
       " 'quoteAuthor': 'Solar Shih, PreK',\n",
       " 'quoteImage': '5LOhydOtTKU',\n",
       " 'subtitle': 'An epic tale of friendship',\n",
       " 'text': ['The ladder went to see the old tree.',\n",
       "  'They went to the playground.',\n",
       "  'They got hungry and they ate.',\n",
       "  'They went home and colored.'],\n",
       " 'textImage': 'iyrJnPlkP68',\n",
       " 'title': 'The Ladder and the Old Tree',\n",
       " 'titleImage': 'bna99RPvh3Y',\n",
       " 'url': 'theladderandtheoldtree.unis.works'}"
      ]
     },
     "execution_count": 12,
     "metadata": {},
     "output_type": "execute_result"
    }
   ],
   "source": [
    "work"
   ]
  },
  {
   "cell_type": "code",
   "execution_count": 6,
   "metadata": {
    "collapsed": false,
    "deletable": true,
    "editable": true
   },
   "outputs": [
    {
     "data": {
      "text/plain": [
       "'Solar Shih'"
      ]
     },
     "execution_count": 6,
     "metadata": {},
     "output_type": "execute_result"
    }
   ],
   "source": [
    "work['author']"
   ]
  }
 ],
 "metadata": {
  "kernelspec": {
   "display_name": "Python 3",
   "language": "python",
   "name": "python3"
  },
  "language_info": {
   "codemirror_mode": {
    "name": "ipython",
    "version": 3
   },
   "file_extension": ".py",
   "mimetype": "text/x-python",
   "name": "python",
   "nbconvert_exporter": "python",
   "pygments_lexer": "ipython3",
   "version": "3.4.2"
  }
 },
 "nbformat": 4,
 "nbformat_minor": 2
}
